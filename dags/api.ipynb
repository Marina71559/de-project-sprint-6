{
 "cells": [
  {
   "cell_type": "code",
   "execution_count": 2,
   "metadata": {},
   "outputs": [
    {
     "name": "stdout",
     "output_type": "stream",
     "text": [
      "Файл успешно скачан\n"
     ]
    }
   ],
   "source": [
    "import requests\n",
    "\n",
    "url = 'https://d5d04q7d963eapoepsqr.apigw.yandexcloud.net/restaurants?sort_field=id'\n",
    "headers = {\n",
    "    'X-Nickname': 'marina71559',\n",
    "    'X-Cohort': '21',\n",
    "    'X-API-KEY': '25c27781-8fde-4b30-a22e-524044a7580f'\n",
    "}\n",
    "\n",
    "response = requests.get(url, headers=headers)\n",
    "\n",
    "if response.status_code == 200:\n",
    "    with open('restaurants.json', 'wb') as file:\n",
    "        file.write(response.content)\n",
    "        print('Файл успешно скачан')\n",
    "else:\n",
    "    print('Ошибка при загрузке файла:', response.status_code)\n"
   ]
  },
  {
   "cell_type": "code",
   "execution_count": null,
   "metadata": {},
   "outputs": [],
   "source": [
    "import requests\n",
    "\n",
    "url = 'https://d5d04q7d963eapoepsqr.apigw.yandexcloud.net/couriers?sort_field=id'\n",
    "headers = {\n",
    "    'X-Nickname': 'marina71559',\n",
    "    'X-Cohort': '21',\n",
    "    'X-API-KEY': '25c27781-8fde-4b30-a22e-524044a7580f'\n",
    "}\n",
    "\n",
    "response = requests.get(url, headers=headers)\n",
    "\n",
    "if response.status_code == 200:\n",
    "    with open('couriers.json', 'wb') as file:\n",
    "        file.write(response.content)\n",
    "        print('Файл успешно скачан')\n",
    "else:\n",
    "    print('Ошибка при загрузке файла:', response.status_code)"
   ]
  },
  {
   "cell_type": "code",
   "execution_count": 1,
   "metadata": {},
   "outputs": [
    {
     "name": "stdout",
     "output_type": "stream",
     "text": [
      "Файл успешно скачан\n"
     ]
    }
   ],
   "source": [
    "import requests\n",
    "\n",
    "url = 'https://d5d04q7d963eapoepsqr.apigw.yandexcloud.net/deliveries?sort_field=id'\n",
    "headers = {\n",
    "    'X-Nickname': 'marina71559',\n",
    "    'X-Cohort': '21',\n",
    "    'X-API-KEY': '25c27781-8fde-4b30-a22e-524044a7580f'\n",
    "}\n",
    "\n",
    "response = requests.get(url, headers=headers)\n",
    "\n",
    "if response.status_code == 200:\n",
    "    with open('deliveries.json', 'wb') as file:\n",
    "        file.write(response.content)\n",
    "        print('Файл успешно скачан')\n",
    "else:\n",
    "    print('Ошибка при загрузке файла:', response.status_code)"
   ]
  }
 ],
 "metadata": {
  "kernelspec": {
   "display_name": "Python 3",
   "language": "python",
   "name": "python3"
  },
  "language_info": {
   "codemirror_mode": {
    "name": "ipython",
    "version": 3
   },
   "file_extension": ".py",
   "mimetype": "text/x-python",
   "name": "python",
   "nbconvert_exporter": "python",
   "pygments_lexer": "ipython3",
   "version": "3.7.9"
  }
 },
 "nbformat": 4,
 "nbformat_minor": 2
}
